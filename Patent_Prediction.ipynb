{
 "cells": [
  {
   "cell_type": "markdown",
   "metadata": {},
   "source": [
    "Summary : Of all the Algorithms executed,Ridge converged with the best test score and other statistics are mentioned below:\n",
    "\n",
    "Best Mean Cross-validation score: 0.16\n",
    "Ridge parameters:  {'alpha': 1}\n",
    "\n",
    "Ridge Test Performance:  0.1661922740152575\n",
    "Ridge Train Performance:  0.16443711032081984\n",
    "\n",
    "train mse: 911.3325557722592\n",
    "train rmse: 30.188285075046235\n",
    "train r2: 0.16443711032081987\n",
    "\n",
    "test mse: 975.0983627592045\n",
    "test rmse: 31.2265650169724\n",
    "test r2: 0.1661922740152575\n",
    "\n",
    "Additional Notes:\n",
    "Algorithms which could not converge due to high computation usage - Polynomial-multiple,SVR(rbf,poly and sigmoid)\n",
    "Tried Recursive Feature Elimination and used 9 to 15 important features but the accuracy did not increase."
   ]
  },
  {
   "cell_type": "markdown",
   "metadata": {},
   "source": [
    "#### Importing Libraries"
   ]
  },
  {
   "cell_type": "code",
   "execution_count": 1,
   "metadata": {},
   "outputs": [],
   "source": [
    "from math import sqrt\n",
    "import pandas as pd\n",
    "import numpy as np\n",
    "import matplotlib.pyplot as plt\n",
    "import seaborn as sns\n",
    "import scipy.stats as stats\n",
    "\n",
    "pd.pandas.set_option('display.max_columns', None)\n",
    "%matplotlib inline"
   ]
  },
  {
   "cell_type": "markdown",
   "metadata": {},
   "source": [
    "#### Load Dataset"
   ]
  },
  {
   "cell_type": "code",
   "execution_count": 2,
   "metadata": {},
   "outputs": [],
   "source": [
    "# load dataset\n",
    "# your code here\n",
    "data = pd.read_excel(r'\\\\PatentDataVariables.xlsx')\n"
   ]
  },
  {
   "cell_type": "code",
   "execution_count": 3,
   "metadata": {},
   "outputs": [
    {
     "data": {
      "text/html": [
       "<div>\n",
       "<style scoped>\n",
       "    .dataframe tbody tr th:only-of-type {\n",
       "        vertical-align: middle;\n",
       "    }\n",
       "\n",
       "    .dataframe tbody tr th {\n",
       "        vertical-align: top;\n",
       "    }\n",
       "\n",
       "    .dataframe thead th {\n",
       "        text-align: right;\n",
       "    }\n",
       "</style>\n",
       "<table border=\"1\" class=\"dataframe\">\n",
       "  <thead>\n",
       "    <tr style=\"text-align: right;\">\n",
       "      <th></th>\n",
       "      <th>pat</th>\n",
       "      <th>fwd</th>\n",
       "      <th>lag_d</th>\n",
       "      <th>lag_y</th>\n",
       "      <th>noc</th>\n",
       "      <th>gy</th>\n",
       "      <th>ay</th>\n",
       "      <th>noi</th>\n",
       "      <th>UMC</th>\n",
       "      <th>firm</th>\n",
       "      <th>MSA</th>\n",
       "      <th>tbm</th>\n",
       "      <th>tbru</th>\n",
       "      <th>PAG</th>\n",
       "      <th>npr</th>\n",
       "      <th>fpr</th>\n",
       "      <th>FT</th>\n",
       "      <th>Cent</th>\n",
       "      <th>EXP_Y</th>\n",
       "      <th>DT</th>\n",
       "      <th>IT</th>\n",
       "      <th>RT</th>\n",
       "      <th>3rd_PT</th>\n",
       "      <th>Rnd_Int</th>\n",
       "      <th>FS</th>\n",
       "    </tr>\n",
       "  </thead>\n",
       "  <tbody>\n",
       "    <tr>\n",
       "      <th>0</th>\n",
       "      <td>6052760</td>\n",
       "      <td>35</td>\n",
       "      <td>895</td>\n",
       "      <td>3</td>\n",
       "      <td>6</td>\n",
       "      <td>2000</td>\n",
       "      <td>1997</td>\n",
       "      <td>3</td>\n",
       "      <td>711</td>\n",
       "      <td>596125</td>\n",
       "      <td>156</td>\n",
       "      <td>54</td>\n",
       "      <td>0.65505</td>\n",
       "      <td>5.019564e+06</td>\n",
       "      <td>6</td>\n",
       "      <td>3</td>\n",
       "      <td>2</td>\n",
       "      <td>0.000022</td>\n",
       "      <td>3.33333</td>\n",
       "      <td>2.66666</td>\n",
       "      <td>9.74898</td>\n",
       "      <td>0.00000</td>\n",
       "      <td>0.0</td>\n",
       "      <td>0.05382</td>\n",
       "      <td>32.0</td>\n",
       "    </tr>\n",
       "    <tr>\n",
       "      <th>1</th>\n",
       "      <td>6052764</td>\n",
       "      <td>6</td>\n",
       "      <td>851</td>\n",
       "      <td>3</td>\n",
       "      <td>22</td>\n",
       "      <td>2000</td>\n",
       "      <td>1997</td>\n",
       "      <td>1</td>\n",
       "      <td>711</td>\n",
       "      <td>755619</td>\n",
       "      <td>261</td>\n",
       "      <td>5</td>\n",
       "      <td>0.32000</td>\n",
       "      <td>5.578147e+06</td>\n",
       "      <td>0</td>\n",
       "      <td>0</td>\n",
       "      <td>2</td>\n",
       "      <td>0.000000</td>\n",
       "      <td>9.00000</td>\n",
       "      <td>0.00000</td>\n",
       "      <td>0.00000</td>\n",
       "      <td>0.00000</td>\n",
       "      <td>0.0</td>\n",
       "      <td>0.02247</td>\n",
       "      <td>18.0</td>\n",
       "    </tr>\n",
       "    <tr>\n",
       "      <th>2</th>\n",
       "      <td>6052773</td>\n",
       "      <td>66</td>\n",
       "      <td>1778</td>\n",
       "      <td>5</td>\n",
       "      <td>22</td>\n",
       "      <td>2000</td>\n",
       "      <td>1995</td>\n",
       "      <td>3</td>\n",
       "      <td>712</td>\n",
       "      <td>357270</td>\n",
       "      <td>32</td>\n",
       "      <td>28</td>\n",
       "      <td>0.63778</td>\n",
       "      <td>5.072923e+06</td>\n",
       "      <td>25</td>\n",
       "      <td>0</td>\n",
       "      <td>2</td>\n",
       "      <td>0.000000</td>\n",
       "      <td>3.66666</td>\n",
       "      <td>0.00000</td>\n",
       "      <td>0.00000</td>\n",
       "      <td>0.00000</td>\n",
       "      <td>0.0</td>\n",
       "      <td>0.00000</td>\n",
       "      <td>NaN</td>\n",
       "    </tr>\n",
       "    <tr>\n",
       "      <th>3</th>\n",
       "      <td>6052775</td>\n",
       "      <td>14</td>\n",
       "      <td>1028</td>\n",
       "      <td>3</td>\n",
       "      <td>13</td>\n",
       "      <td>2000</td>\n",
       "      <td>1997</td>\n",
       "      <td>2</td>\n",
       "      <td>712</td>\n",
       "      <td>551495</td>\n",
       "      <td>261</td>\n",
       "      <td>4</td>\n",
       "      <td>0.37500</td>\n",
       "      <td>5.787045e+06</td>\n",
       "      <td>1</td>\n",
       "      <td>0</td>\n",
       "      <td>2</td>\n",
       "      <td>0.000000</td>\n",
       "      <td>5.00000</td>\n",
       "      <td>3.50000</td>\n",
       "      <td>0.73076</td>\n",
       "      <td>0.00000</td>\n",
       "      <td>0.0</td>\n",
       "      <td>0.09262</td>\n",
       "      <td>17.0</td>\n",
       "    </tr>\n",
       "    <tr>\n",
       "      <th>4</th>\n",
       "      <td>6052776</td>\n",
       "      <td>7</td>\n",
       "      <td>915</td>\n",
       "      <td>3</td>\n",
       "      <td>9</td>\n",
       "      <td>2000</td>\n",
       "      <td>1997</td>\n",
       "      <td>3</td>\n",
       "      <td>712</td>\n",
       "      <td>252865</td>\n",
       "      <td>553</td>\n",
       "      <td>7</td>\n",
       "      <td>0.24491</td>\n",
       "      <td>5.696489e+06</td>\n",
       "      <td>5</td>\n",
       "      <td>3</td>\n",
       "      <td>3</td>\n",
       "      <td>0.000000</td>\n",
       "      <td>5.33333</td>\n",
       "      <td>1.33333</td>\n",
       "      <td>2088.45722</td>\n",
       "      <td>0.33333</td>\n",
       "      <td>0.0</td>\n",
       "      <td>0.05907</td>\n",
       "      <td>330.0</td>\n",
       "    </tr>\n",
       "  </tbody>\n",
       "</table>\n",
       "</div>"
      ],
      "text/plain": [
       "       pat  fwd  lag_d  lag_y  noc    gy    ay  noi  UMC    firm  MSA  tbm  \\\n",
       "0  6052760   35    895      3    6  2000  1997    3  711  596125  156   54   \n",
       "1  6052764    6    851      3   22  2000  1997    1  711  755619  261    5   \n",
       "2  6052773   66   1778      5   22  2000  1995    3  712  357270   32   28   \n",
       "3  6052775   14   1028      3   13  2000  1997    2  712  551495  261    4   \n",
       "4  6052776    7    915      3    9  2000  1997    3  712  252865  553    7   \n",
       "\n",
       "      tbru           PAG  npr  fpr  FT      Cent    EXP_Y       DT  \\\n",
       "0  0.65505  5.019564e+06    6    3   2  0.000022  3.33333  2.66666   \n",
       "1  0.32000  5.578147e+06    0    0   2  0.000000  9.00000  0.00000   \n",
       "2  0.63778  5.072923e+06   25    0   2  0.000000  3.66666  0.00000   \n",
       "3  0.37500  5.787045e+06    1    0   2  0.000000  5.00000  3.50000   \n",
       "4  0.24491  5.696489e+06    5    3   3  0.000000  5.33333  1.33333   \n",
       "\n",
       "           IT       RT  3rd_PT  Rnd_Int     FS  \n",
       "0     9.74898  0.00000     0.0  0.05382   32.0  \n",
       "1     0.00000  0.00000     0.0  0.02247   18.0  \n",
       "2     0.00000  0.00000     0.0  0.00000    NaN  \n",
       "3     0.73076  0.00000     0.0  0.09262   17.0  \n",
       "4  2088.45722  0.33333     0.0  0.05907  330.0  "
      ]
     },
     "execution_count": 3,
     "metadata": {},
     "output_type": "execute_result"
    }
   ],
   "source": [
    "data.head(5)"
   ]
  },
  {
   "cell_type": "code",
   "execution_count": 4,
   "metadata": {},
   "outputs": [
    {
     "name": "stdout",
     "output_type": "stream",
     "text": [
      "<class 'pandas.core.frame.DataFrame'>\n",
      "RangeIndex: 65535 entries, 0 to 65534\n",
      "Data columns (total 25 columns):\n",
      "pat        65535 non-null int64\n",
      "fwd        65535 non-null int64\n",
      "lag_d      65535 non-null int64\n",
      "lag_y      65535 non-null int64\n",
      "noc        65535 non-null int64\n",
      "gy         65535 non-null int64\n",
      "ay         65535 non-null int64\n",
      "noi        65535 non-null int64\n",
      "UMC        65535 non-null int64\n",
      "firm       65535 non-null int64\n",
      "MSA        65535 non-null int64\n",
      "tbm        65535 non-null int64\n",
      "tbru       65535 non-null float64\n",
      "PAG        65535 non-null float64\n",
      "npr        65535 non-null int64\n",
      "fpr        65535 non-null int64\n",
      "FT         65535 non-null int64\n",
      "Cent       65535 non-null float64\n",
      "EXP_Y      65535 non-null float64\n",
      "DT         65535 non-null float64\n",
      "IT         65535 non-null float64\n",
      "RT         65535 non-null float64\n",
      "3rd_PT     65535 non-null float64\n",
      "Rnd_Int    65535 non-null float64\n",
      "FS         38808 non-null float64\n",
      "dtypes: float64(10), int64(15)\n",
      "memory usage: 12.5 MB\n"
     ]
    }
   ],
   "source": [
    "data.info()"
   ]
  },
  {
   "cell_type": "markdown",
   "metadata": {},
   "source": [
    "#### Identifying variables "
   ]
  },
  {
   "cell_type": "code",
   "execution_count": 5,
   "metadata": {},
   "outputs": [
    {
     "name": "stdout",
     "output_type": "stream",
     "text": [
      "Number of patents in the Dataset:  65535\n"
     ]
    }
   ],
   "source": [
    "##ength of data:\n",
    "\n",
    "print('Number of patents in the Dataset: ', len(data))"
   ]
  },
  {
   "cell_type": "code",
   "execution_count": 6,
   "metadata": {},
   "outputs": [
    {
     "name": "stdout",
     "output_type": "stream",
     "text": [
      "There are 0 categorical variables\n"
     ]
    }
   ],
   "source": [
    "# find categorical variables\n",
    "\n",
    "categorical = [var for var in data.columns if data[var].dtype=='O']\n",
    "\n",
    "print(f'There are {len(categorical)} categorical variables')"
   ]
  },
  {
   "cell_type": "code",
   "execution_count": 7,
   "metadata": {},
   "outputs": [
    {
     "name": "stdout",
     "output_type": "stream",
     "text": [
      "There are 25 numerical variables\n"
     ]
    }
   ],
   "source": [
    "# make a list of the numerical variables first= Hint data type != O\n",
    "numerical = [var for var in data.columns if data[var].dtype!='O']\n",
    "\n",
    "print(f'There are {len(numerical)} numerical variables')"
   ]
  },
  {
   "cell_type": "code",
   "execution_count": 8,
   "metadata": {},
   "outputs": [
    {
     "name": "stdout",
     "output_type": "stream",
     "text": [
      "There are 3 discrete variables\n"
     ]
    }
   ],
   "source": [
    "# let's visualise the values of the discrete variables\n",
    "discrete = [var for var in numerical if len(data[var].unique()) < 20]\n",
    "\n",
    "print(f'There are {len(discrete)} discrete variables')"
   ]
  },
  {
   "cell_type": "code",
   "execution_count": 145,
   "metadata": {},
   "outputs": [
    {
     "data": {
      "text/plain": [
       "['lag_y', 'ay', 'FT']"
      ]
     },
     "execution_count": 145,
     "metadata": {},
     "output_type": "execute_result"
    }
   ],
   "source": [
    "discrete"
   ]
  },
  {
   "cell_type": "code",
   "execution_count": 9,
   "metadata": {},
   "outputs": [
    {
     "name": "stdout",
     "output_type": "stream",
     "text": [
      "There are 25 numerical and continuous variables\n"
     ]
    }
   ],
   "source": [
    "# find continuous variables- hint numerical variables not in discrete and  year_years \n",
    "# Also remove the Id variable and the target variable SalePrice\n",
    "# which are both also numerical\n",
    "\n",
    "continuous = [var for var in numerical if var not in discrete and var not in ['fwd']]\n",
    "\n",
    "print('There are {} numerical and continuous variables'.format(len(numerical)))"
   ]
  },
  {
   "cell_type": "markdown",
   "metadata": {},
   "source": [
    "#### Correlation plot"
   ]
  },
  {
   "cell_type": "code",
   "execution_count": 10,
   "metadata": {},
   "outputs": [
    {
     "data": {
      "text/plain": [
       "<matplotlib.axes._subplots.AxesSubplot at 0x276fbee92c8>"
      ]
     },
     "execution_count": 10,
     "metadata": {},
     "output_type": "execute_result"
    },
    {
     "data": {
      "image/png": "[encoded data removed]",
      "text/plain": [
       "<Figure size 864x648 with 2 Axes>"
      ]
     },
     "metadata": {
      "needs_background": "light"
     },
     "output_type": "display_data"
    }
   ],
   "source": [
    "#Correlation map to see how features are correlated with fwd\n",
    "corrmat = data.corr()\n",
    "plt.subplots(figsize=(12,9))\n",
    "sns.heatmap(corrmat, cmap='summer', square=True,linewidths=.5, cbar_kws={\"shrink\": .5})"
   ]
  },
  {
   "cell_type": "markdown",
   "metadata": {},
   "source": [
    "#### We can drop lag_y column"
   ]
  },
  {
   "cell_type": "code",
   "execution_count": 10,
   "metadata": {},
   "outputs": [],
   "source": [
    "data=data.drop(['lag_y'], axis=1)"
   ]
  },
  {
   "cell_type": "code",
   "execution_count": 12,
   "metadata": {},
   "outputs": [
    {
     "data": {
      "text/plain": [
       "<matplotlib.axes._subplots.AxesSubplot at 0x276fbee9648>"
      ]
     },
     "execution_count": 12,
     "metadata": {},
     "output_type": "execute_result"
    },
    {
     "data": {
      "image/png": "[encoded data removed]",
      "text/plain": [
       "<Figure size 864x864 with 2 Axes>"
      ]
     },
     "metadata": {
      "needs_background": "light"
     },
     "output_type": "display_data"
    }
   ],
   "source": [
    "#Correlation map to see how features are correlated with fwd\n",
    "corrmat = data.corr()\n",
    "plt.subplots(figsize=(12,12))\n",
    "sns.heatmap(corrmat, cmap='bone', square=True,linewidths=.5, cbar_kws={\"shrink\": .8})"
   ]
  },
  {
   "cell_type": "code",
   "execution_count": 13,
   "metadata": {},
   "outputs": [
    {
     "data": {
      "image/png": "[encoded data removed]",
      "text/plain": [
       "<Figure size 432x288 with 1 Axes>"
      ]
     },
     "metadata": {
      "needs_background": "light"
     },
     "output_type": "display_data"
    }
   ],
   "source": [
    "sns.countplot(x='FT', data=data);"
   ]
  },
  {
   "cell_type": "markdown",
   "metadata": {},
   "source": [
    "As per the plot, 2:US non Government organization had maximum number of patents, around 42k."
   ]
  },
  {
   "cell_type": "code",
   "execution_count": 14,
   "metadata": {},
   "outputs": [
    {
     "data": {
      "image/png": "[encoded data removed]",
      "text/plain": [
       "<Figure size 1152x288 with 1 Axes>"
      ]
     },
     "metadata": {
      "needs_background": "light"
     },
     "output_type": "display_data"
    }
   ],
   "source": [
    "plt.figure(figsize=(16,4))\n",
    "sns.countplot(x=\"gy\", color='teal',data=data)\n",
    "plt.show()"
   ]
  },
  {
   "cell_type": "markdown",
   "metadata": {},
   "source": [
    "We observed that maximum number of patents were granted in year 1998 and 1999."
   ]
  },
  {
   "cell_type": "code",
   "execution_count": 15,
   "metadata": {},
   "outputs": [
    {
     "data": {
      "image/png": "[encoded data removed]",
      "text/plain": [
       "<Figure size 1152x288 with 1 Axes>"
      ]
     },
     "metadata": {
      "needs_background": "light"
     },
     "output_type": "display_data"
    }
   ],
   "source": [
    "plt.figure(figsize=(16,4))\n",
    "sns.countplot(x='ay', color='green', data=data)\n",
    "plt.show()"
   ]
  },
  {
   "cell_type": "markdown",
   "metadata": {},
   "source": [
    "Maximum number of patents were applied in 1997."
   ]
  },
  {
   "cell_type": "code",
   "execution_count": 16,
   "metadata": {},
   "outputs": [
    {
     "data": {
      "image/png": "[encoded data removed]",
      "text/plain": [
       "<Figure size 1152x288 with 1 Axes>"
      ]
     },
     "metadata": {
      "needs_background": "light"
     },
     "output_type": "display_data"
    }
   ],
   "source": [
    "plt.figure(figsize=(16,4))\n",
    "sns.countplot(x='noi', color='red',data=data)\n",
    "plt.show()"
   ]
  },
  {
   "cell_type": "code",
   "execution_count": 17,
   "metadata": {},
   "outputs": [
    {
     "data": {
      "text/plain": [
       "noi\n",
       "1     587036\n",
       "2     458405\n",
       "3     308686\n",
       "4     174115\n",
       "5      93295\n",
       "6      51710\n",
       "7      31835\n",
       "8      17421\n",
       "9       9251\n",
       "10      6726\n",
       "11      3696\n",
       "12      2994\n",
       "13      1789\n",
       "14      1265\n",
       "15       658\n",
       "16       515\n",
       "17       343\n",
       "18       835\n",
       "19       190\n",
       "20       192\n",
       "21       227\n",
       "22       259\n",
       "23        98\n",
       "25        78\n",
       "26        85\n",
       "27        85\n",
       "32        14\n",
       "Name: fwd, dtype: int64"
      ]
     },
     "execution_count": 17,
     "metadata": {},
     "output_type": "execute_result"
    }
   ],
   "source": [
    "data.groupby(['noi']).fwd.sum()"
   ]
  },
  {
   "cell_type": "markdown",
   "metadata": {},
   "source": [
    "Single contribution is maximum in submitting a patent."
   ]
  },
  {
   "cell_type": "code",
   "execution_count": 18,
   "metadata": {},
   "outputs": [
    {
     "data": {
      "text/plain": [
       "FT\n",
       "1     145259\n",
       "2    1310287\n",
       "3     273386\n",
       "4      10599\n",
       "5       2021\n",
       "6       8934\n",
       "7       1317\n",
       "Name: fwd, dtype: int64"
      ]
     },
     "execution_count": 18,
     "metadata": {},
     "output_type": "execute_result"
    }
   ],
   "source": [
    "data.groupby(['FT']).fwd.sum()"
   ]
  },
  {
   "cell_type": "markdown",
   "metadata": {},
   "source": [
    "Number of forward citations received by US non Government Organizations are maximum."
   ]
  },
  {
   "cell_type": "markdown",
   "metadata": {},
   "source": [
    "#### Distribution of number of claims"
   ]
  },
  {
   "cell_type": "code",
   "execution_count": 19,
   "metadata": {},
   "outputs": [
    {
     "data": {
      "image/png": "[encoded data removed]",
      "text/plain": [
       "<Figure size 432x288 with 1 Axes>"
      ]
     },
     "metadata": {
      "needs_background": "light"
     },
     "output_type": "display_data"
    }
   ],
   "source": [
    "sns.distplot(data.noc, color='blue',kde=True,bins=10);"
   ]
  },
  {
   "cell_type": "markdown",
   "metadata": {},
   "source": [
    "#### Recursive Feature Elimination using RandomForestClassifier"
   ]
  },
  {
   "cell_type": "code",
   "execution_count": 23,
   "metadata": {},
   "outputs": [
    {
     "data": {
      "text/plain": [
       "RFECV(cv=StratifiedKFold(n_splits=10, random_state=None, shuffle=False),\n",
       "      estimator=RandomForestClassifier(bootstrap=True, class_weight=None,\n",
       "                                       criterion='gini', max_depth=None,\n",
       "                                       max_features='auto', max_leaf_nodes=None,\n",
       "                                       min_impurity_decrease=0.0,\n",
       "                                       min_impurity_split=None,\n",
       "                                       min_samples_leaf=1, min_samples_split=2,\n",
       "                                       min_weight_fraction_leaf=0.0,\n",
       "                                       n_estimators='warn', n_jobs=None,\n",
       "                                       oob_score=False, random_state=101,\n",
       "                                       verbose=0, warm_start=False),\n",
       "      min_features_to_select=1, n_jobs=None, scoring='accuracy', step=1,\n",
       "      verbose=0)"
      ]
     },
     "execution_count": 23,
     "metadata": {},
     "output_type": "execute_result"
    }
   ],
   "source": [
    "from sklearn.ensemble import RandomForestClassifier\n",
    "from sklearn.model_selection import GridSearchCV\n",
    "from sklearn.feature_selection import RFECV\n",
    "from sklearn.model_selection import StratifiedKFold\n",
    "import warnings\n",
    "warnings.filterwarnings('ignore')\n",
    "\n",
    "\n",
    "X = data.drop('fwd', axis=1)\n",
    "X = data.drop('FS', axis=1)\n",
    "target = data['fwd']\n",
    "\n",
    "rfc = RandomForestClassifier(random_state=101)\n",
    "rfecv = RFECV(estimator=rfc, step=1, cv=StratifiedKFold(10), scoring='accuracy')\n",
    "rfecv.fit(X, target)"
   ]
  },
  {
   "cell_type": "code",
   "execution_count": 24,
   "metadata": {},
   "outputs": [
    {
     "name": "stdout",
     "output_type": "stream",
     "text": [
      "Optimal number of features: 1\n"
     ]
    }
   ],
   "source": [
    "print('Optimal number of features: {}'.format(rfecv.n_features_))"
   ]
  },
  {
   "cell_type": "code",
   "execution_count": 25,
   "metadata": {},
   "outputs": [
    {
     "name": "stdout",
     "output_type": "stream",
     "text": [
      "[ 0  2  3  4  5  6  7  8  9 10 11 12 13 14 15 16 17 18 19 20 21 22]\n"
     ]
    }
   ],
   "source": [
    "print(np.where(rfecv.support_ == False)[0])"
   ]
  },
  {
   "cell_type": "code",
   "execution_count": 26,
   "metadata": {},
   "outputs": [
    {
     "data": {
      "image/png": "[encoded data removed]",
      "text/plain": [
       "<Figure size 1152x648 with 1 Axes>"
      ]
     },
     "metadata": {
      "needs_background": "light"
     },
     "output_type": "display_data"
    }
   ],
   "source": [
    "plt.figure(figsize=(16, 9))\n",
    "plt.title('Recursive Feature Elimination with Cross-Validation', fontsize=18, fontweight='bold', pad=20)\n",
    "plt.xlabel('Number of features selected', fontsize=14, labelpad=20)\n",
    "plt.ylabel('% Correct Classification', fontsize=14, labelpad=20)\n",
    "plt.plot(range(1, len(rfecv.grid_scores_) + 1), rfecv.grid_scores_, color='#303F9F', linewidth=3)\n",
    "\n",
    "plt.show()"
   ]
  },
  {
   "cell_type": "markdown",
   "metadata": {},
   "source": [
    "Feature importance is maximum or correct classification is 0.6 at 9 variables"
   ]
  },
  {
   "cell_type": "code",
   "execution_count": 30,
   "metadata": {},
   "outputs": [],
   "source": [
    "data1 = data.drop('pat', axis=1)"
   ]
  },
  {
   "cell_type": "markdown",
   "metadata": {},
   "source": [
    "#### Feature Importance"
   ]
  },
  {
   "cell_type": "code",
   "execution_count": 32,
   "metadata": {},
   "outputs": [
    {
     "name": "stdout",
     "output_type": "stream",
     "text": [
      "[0.07837771 0.07670413 0.04726787 0.04075188 0.04618966 0.06984159\n",
      " 0.06261118 0.05792222 0.07085226 0.06840026 0.07631528 0.05495375\n",
      " 0.03942144 0.0142069  0.01907554 0.04902864 0.03243383 0.02245769\n",
      " 0.0196872  0.00271258 0.05078837]\n"
     ]
    },
    {
     "data": {
      "image/png": "[encoded data removed]",
      "text/plain": [
       "<Figure size 432x288 with 1 Axes>"
      ]
     },
     "metadata": {
      "needs_background": "light"
     },
     "output_type": "display_data"
    }
   ],
   "source": [
    "X = data1.iloc[:,1:22]  #independent columns\n",
    "y = data1.iloc[:,0]    #target column i.e fwd\n",
    "from sklearn.ensemble import ExtraTreesClassifier\n",
    "import matplotlib.pyplot as plt\n",
    "model = ExtraTreesClassifier()\n",
    "model.fit(X,y)\n",
    "print(model.feature_importances_) #use inbuilt class feature_importances of tree based classifiers\n",
    "#plot graph of feature importances for better visualization\n",
    "feat_importances = pd.Series(model.feature_importances_, index=X.columns)\n",
    "feat_importances.nlargest(15).plot(kind='barh')\n",
    "plt.show()"
   ]
  },
  {
   "cell_type": "markdown",
   "metadata": {},
   "source": [
    "#### Split the data into Train and Test"
   ]
  },
  {
   "cell_type": "code",
   "execution_count": 11,
   "metadata": {},
   "outputs": [
    {
     "data": {
      "text/plain": [
       "((49151, 23), (16384, 23))"
      ]
     },
     "execution_count": 11,
     "metadata": {},
     "output_type": "execute_result"
    }
   ],
   "source": [
    "# Let's separate into train and test set\n",
    "from sklearn.model_selection import train_test_split\n",
    "X_train, X_test, y_train, y_test = train_test_split(data.drop(['fwd'], axis=1),\n",
    "                                                    data['fwd'],\n",
    "                                                    test_size=0.25,\n",
    "                                                    random_state=0)\n",
    "\n",
    "X_train.shape, X_test.shape"
   ]
  },
  {
   "cell_type": "code",
   "execution_count": 12,
   "metadata": {},
   "outputs": [],
   "source": [
    "categorical=['gy','ay','firm','UMC','MSA','FT']"
   ]
  },
  {
   "cell_type": "code",
   "execution_count": 13,
   "metadata": {},
   "outputs": [],
   "source": [
    "continuous=list(set(list(data.columns))-set(categorical))"
   ]
  },
  {
   "cell_type": "code",
   "execution_count": 14,
   "metadata": {},
   "outputs": [],
   "source": [
    "X_train[categorical] = X_train[categorical].astype('O')\n",
    "X_test[categorical] = X_test[categorical].astype('O')"
   ]
  },
  {
   "cell_type": "code",
   "execution_count": 15,
   "metadata": {},
   "outputs": [
    {
     "name": "stdout",
     "output_type": "stream",
     "text": [
      "Requirement already satisfied: feature_engine in c:\\users\\krishna\\anaconda3\\lib\\site-packages (0.3.1)\n",
      "Requirement already satisfied: statsmodels>=0.8.0 in c:\\users\\krishna\\anaconda3\\lib\\site-packages (from feature_engine) (0.10.1)\n",
      "Requirement already satisfied: scipy>=0.19.0 in c:\\users\\krishna\\anaconda3\\lib\\site-packages (from feature_engine) (1.3.1)\n",
      "Requirement already satisfied: pandas>=0.23.0 in c:\\users\\krishna\\anaconda3\\lib\\site-packages (from feature_engine) (0.24.2)\n",
      "Requirement already satisfied: scikit-learn>=0.18.1 in c:\\users\\krishna\\anaconda3\\lib\\site-packages (from feature_engine) (0.21.3)\n",
      "Requirement already satisfied: numpydoc>=0.6.0 in c:\\users\\krishna\\anaconda3\\lib\\site-packages (from feature_engine) (0.9.1)\n",
      "Requirement already satisfied: numpy>=1.12.1 in c:\\users\\krishna\\anaconda3\\lib\\site-packages (from feature_engine) (1.16.5)\n",
      "Requirement already satisfied: patsy>=0.4.0 in c:\\users\\krishna\\anaconda3\\lib\\site-packages (from statsmodels>=0.8.0->feature_engine) (0.5.1)\n",
      "Requirement already satisfied: python-dateutil>=2.5.0 in c:\\users\\krishna\\anaconda3\\lib\\site-packages (from pandas>=0.23.0->feature_engine) (2.8.0)\n",
      "Requirement already satisfied: pytz>=2011k in c:\\users\\krishna\\anaconda3\\lib\\site-packages (from pandas>=0.23.0->feature_engine) (2019.3)\n",
      "Requirement already satisfied: joblib>=0.11 in c:\\users\\krishna\\anaconda3\\lib\\site-packages (from scikit-learn>=0.18.1->feature_engine) (0.13.2)\n",
      "Requirement already satisfied: sphinx>=1.6.5 in c:\\users\\krishna\\anaconda3\\lib\\site-packages (from numpydoc>=0.6.0->feature_engine) (2.2.0)\n",
      "Requirement already satisfied: Jinja2>=2.3 in c:\\users\\krishna\\anaconda3\\lib\\site-packages (from numpydoc>=0.6.0->feature_engine) (2.10.3)\n",
      "Requirement already satisfied: six in c:\\users\\krishna\\anaconda3\\lib\\site-packages (from patsy>=0.4.0->statsmodels>=0.8.0->feature_engine) (1.12.0)\n",
      "Requirement already satisfied: sphinxcontrib-jsmath in c:\\users\\krishna\\anaconda3\\lib\\site-packages (from sphinx>=1.6.5->numpydoc>=0.6.0->feature_engine) (1.0.1)\n",
      "Requirement already satisfied: sphinxcontrib-serializinghtml in c:\\users\\krishna\\anaconda3\\lib\\site-packages (from sphinx>=1.6.5->numpydoc>=0.6.0->feature_engine) (1.1.3)\n",
      "Requirement already satisfied: colorama>=0.3.5; sys_platform == \"win32\" in c:\\users\\krishna\\anaconda3\\lib\\site-packages (from sphinx>=1.6.5->numpydoc>=0.6.0->feature_engine) (0.4.1)\n",
      "Requirement already satisfied: docutils>=0.12 in c:\\users\\krishna\\anaconda3\\lib\\site-packages (from sphinx>=1.6.5->numpydoc>=0.6.0->feature_engine) (0.15.2)\n",
      "Requirement already satisfied: snowballstemmer>=1.1 in c:\\users\\krishna\\anaconda3\\lib\\site-packages (from sphinx>=1.6.5->numpydoc>=0.6.0->feature_engine) (2.0.0)\n",
      "Requirement already satisfied: requests>=2.5.0 in c:\\users\\krishna\\anaconda3\\lib\\site-packages (from sphinx>=1.6.5->numpydoc>=0.6.0->feature_engine) (2.22.0)\n",
      "Requirement already satisfied: setuptools in c:\\users\\krishna\\anaconda3\\lib\\site-packages (from sphinx>=1.6.5->numpydoc>=0.6.0->feature_engine) (41.4.0)\n",
      "Requirement already satisfied: sphinxcontrib-applehelp in c:\\users\\krishna\\anaconda3\\lib\\site-packages (from sphinx>=1.6.5->numpydoc>=0.6.0->feature_engine) (1.0.1)\n",
      "Requirement already satisfied: Pygments>=2.0 in c:\\users\\krishna\\anaconda3\\lib\\site-packages (from sphinx>=1.6.5->numpydoc>=0.6.0->feature_engine) (2.4.2)\n",
      "Requirement already satisfied: sphinxcontrib-htmlhelp in c:\\users\\krishna\\anaconda3\\lib\\site-packages (from sphinx>=1.6.5->numpydoc>=0.6.0->feature_engine) (1.0.2)\n",
      "Requirement already satisfied: packaging in c:\\users\\krishna\\anaconda3\\lib\\site-packages (from sphinx>=1.6.5->numpydoc>=0.6.0->feature_engine) (19.2)\n",
      "Requirement already satisfied: babel!=2.0,>=1.3 in c:\\users\\krishna\\anaconda3\\lib\\site-packages (from sphinx>=1.6.5->numpydoc>=0.6.0->feature_engine) (2.7.0)\n",
      "Requirement already satisfied: sphinxcontrib-devhelp in c:\\users\\krishna\\anaconda3\\lib\\site-packages (from sphinx>=1.6.5->numpydoc>=0.6.0->feature_engine) (1.0.1)\n",
      "Requirement already satisfied: imagesize in c:\\users\\krishna\\anaconda3\\lib\\site-packages (from sphinx>=1.6.5->numpydoc>=0.6.0->feature_engine) (1.1.0)\n",
      "Requirement already satisfied: sphinxcontrib-qthelp in c:\\users\\krishna\\anaconda3\\lib\\site-packages (from sphinx>=1.6.5->numpydoc>=0.6.0->feature_engine) (1.0.2)\n",
      "Requirement already satisfied: alabaster<0.8,>=0.7 in c:\\users\\krishna\\anaconda3\\lib\\site-packages (from sphinx>=1.6.5->numpydoc>=0.6.0->feature_engine) (0.7.12)\n",
      "Requirement already satisfied: MarkupSafe>=0.23 in c:\\users\\krishna\\anaconda3\\lib\\site-packages (from Jinja2>=2.3->numpydoc>=0.6.0->feature_engine) (1.1.1)\n",
      "Requirement already satisfied: idna<2.9,>=2.5 in c:\\users\\krishna\\anaconda3\\lib\\site-packages (from requests>=2.5.0->sphinx>=1.6.5->numpydoc>=0.6.0->feature_engine) (2.8)\n",
      "Requirement already satisfied: urllib3!=1.25.0,!=1.25.1,<1.26,>=1.21.1 in c:\\users\\krishna\\anaconda3\\lib\\site-packages (from requests>=2.5.0->sphinx>=1.6.5->numpydoc>=0.6.0->feature_engine) (1.24.2)\n",
      "Requirement already satisfied: chardet<3.1.0,>=3.0.2 in c:\\users\\krishna\\anaconda3\\lib\\site-packages (from requests>=2.5.0->sphinx>=1.6.5->numpydoc>=0.6.0->feature_engine) (3.0.4)\n",
      "Requirement already satisfied: certifi>=2017.4.17 in c:\\users\\krishna\\anaconda3\\lib\\site-packages (from requests>=2.5.0->sphinx>=1.6.5->numpydoc>=0.6.0->feature_engine) (2019.9.11)\n",
      "Requirement already satisfied: pyparsing>=2.0.2 in c:\\users\\krishna\\anaconda3\\lib\\site-packages (from packaging->sphinx>=1.6.5->numpydoc>=0.6.0->feature_engine) (2.4.2)\n",
      "Note: you may need to restart the kernel to use updated packages.\n"
     ]
    }
   ],
   "source": [
    "pip install feature_engine"
   ]
  },
  {
   "cell_type": "code",
   "execution_count": 16,
   "metadata": {},
   "outputs": [
    {
     "name": "stdout",
     "output_type": "stream",
     "text": [
      "<class 'pandas.core.frame.DataFrame'>\n",
      "RangeIndex: 65535 entries, 0 to 65534\n",
      "Data columns (total 24 columns):\n",
      "pat        65535 non-null int64\n",
      "fwd        65535 non-null int64\n",
      "lag_d      65535 non-null int64\n",
      "noc        65535 non-null int64\n",
      "gy         65535 non-null int64\n",
      "ay         65535 non-null int64\n",
      "noi        65535 non-null int64\n",
      "UMC        65535 non-null int64\n",
      "firm       65535 non-null int64\n",
      "MSA        65535 non-null int64\n",
      "tbm        65535 non-null int64\n",
      "tbru       65535 non-null float64\n",
      "PAG        65535 non-null float64\n",
      "npr        65535 non-null int64\n",
      "fpr        65535 non-null int64\n",
      "FT         65535 non-null int64\n",
      "Cent       65535 non-null float64\n",
      "EXP_Y      65535 non-null float64\n",
      "DT         65535 non-null float64\n",
      "IT         65535 non-null float64\n",
      "RT         65535 non-null float64\n",
      "3rd_PT     65535 non-null float64\n",
      "Rnd_Int    65535 non-null float64\n",
      "FS         38808 non-null float64\n",
      "dtypes: float64(10), int64(14)\n",
      "memory usage: 12.0 MB\n"
     ]
    }
   ],
   "source": [
    "data.info()"
   ]
  },
  {
   "cell_type": "code",
   "execution_count": 17,
   "metadata": {},
   "outputs": [],
   "source": [
    "# import relevant modules for feature engineering\n",
    "from sklearn.pipeline import Pipeline\n",
    "from sklearn.preprocessing import StandardScaler\n",
    "from feature_engine import missing_data_imputers as mdi\n",
    "from feature_engine import categorical_encoders as ce\n",
    "from feature_engine.variable_transformers import YeoJohnsonTransformer\n",
    "from sklearn.preprocessing import StandardScaler\n",
    "from feature_engine.discretisers import DecisionTreeDiscretiser\n",
    "from feature_engine import discretisers as dsc"
   ]
  },
  {
   "cell_type": "code",
   "execution_count": 18,
   "metadata": {},
   "outputs": [],
   "source": [
    "'''\n",
    "patent_preprocess = Pipeline([\n",
    "    \n",
    "    # missing data imputation \n",
    "    ('imputer_cat', mdi.CategoricalVariableImputer(variables=categorical)),\n",
    "\n",
    "    # categorical encoding \n",
    "     ('rare_label_enc', ce.RareLabelCategoricalEncoder(\n",
    "         tol=0.01,n_categories=6, variables=categorical+discrete)),\n",
    "    ('categorical_enc', ce.MeanCategoricalEncoder(variables = categorical + discrete)),\n",
    "     \n",
    "    # Transforming Numerical Variables\n",
    "    #('yjt', YeoJohnsonTransformer(variables = ['FS'])),\n",
    "\n",
    "    \n",
    "    # discretisation and encoding\n",
    "    #('treeDisc',  DecisionTreeDiscretiser(cv=2, scoring='neg_mean_squared_error',\n",
    "                                   #regression=True,\n",
    "                                   #param_grid={'max_depth': [1,2,3,4,5,6]})),\n",
    "    \n",
    "       # discretisation and encoding\n",
    "    ('discretisation', dsc.EqualWidthDiscretiser(\n",
    "       bins=30, return_object=True, variables=continuous)),\n",
    "\n",
    "    # feature Scaling\n",
    "    ('scaler', StandardScaler()),\n",
    "    \n",
    "    ])\n",
    "\n",
    "patent_preprocess = Pipeline([\n",
    "    \n",
    "    # missing data imputation \n",
    "   # ('missing_ind', mdi.AddNaNBinaryImputer(\n",
    "        #variables=['LotFrontage', 'MasVnrArea',  'GarageYrBlt'])),\n",
    "    #('imputer_num', mdi.MeanMedianImputer(imputation_method='mean',\n",
    "        # variables=['LotFrontage', 'MasVnrArea',  'GarageYrBlt'])),\n",
    "    #('imputer_cat', mdi.CategoricalVariableImputer(variables=categorical)),\n",
    "\n",
    "    # categorical encoding \n",
    "     ('rare_label_enc', ce.RareLabelCategoricalEncoder(\n",
    "        tol=0.01,n_categories=6, variables=categorical)),\n",
    "    ('categorical_enc', ce.MeanCategoricalEncoder(variables = categorical)),\n",
    "     \n",
    "    # Transforming Numerical Variables\n",
    "    ('yjt', YeoJohnsonTransformer(variables = ['noc','tbm','npr','lag_d'])),\n",
    "\n",
    "    \n",
    "    # discretisation and encoding\n",
    "   ('treeDisc',  DecisionTreeDiscretiser(cv=10, scoring='neg_mean_squared_error',\n",
    "                                  regression=True,\n",
    "                                   param_grid={'max_depth': [1,2,3,4,5,6]})),\n",
    "\n",
    "    # feature Scaling\n",
    "    ('scaler', StandardScaler()),\n",
    "    \n",
    "    \n",
    "])\n",
    "'''\n",
    "patent_preprocess = Pipeline([\n",
    "    ('imputer_num', mdi.MeanMedianImputer(imputation_method='median',\n",
    "                                          variables=['FS'])),\n",
    "    # categorical encoding \n",
    "     ('rare_label_enc', ce.RareLabelCategoricalEncoder(\n",
    "         tol=0.01,n_categories=6, variables=categorical)),\n",
    "    ('categorical_enc', ce.OneHotCategoricalEncoder(variables = categorical)),\n",
    "     \n",
    "])"
   ]
  },
  {
   "cell_type": "code",
   "execution_count": 96,
   "metadata": {},
   "outputs": [
    {
     "data": {
      "text/html": [
       "<div>\n",
       "<style scoped>\n",
       "    .dataframe tbody tr th:only-of-type {\n",
       "        vertical-align: middle;\n",
       "    }\n",
       "\n",
       "    .dataframe tbody tr th {\n",
       "        vertical-align: top;\n",
       "    }\n",
       "\n",
       "    .dataframe thead th {\n",
       "        text-align: right;\n",
       "    }\n",
       "</style>\n",
       "<table border=\"1\" class=\"dataframe\">\n",
       "  <thead>\n",
       "    <tr style=\"text-align: right;\">\n",
       "      <th></th>\n",
       "      <th>pat</th>\n",
       "      <th>lag_d</th>\n",
       "      <th>noc</th>\n",
       "      <th>gy</th>\n",
       "      <th>ay</th>\n",
       "      <th>noi</th>\n",
       "      <th>UMC</th>\n",
       "      <th>firm</th>\n",
       "      <th>MSA</th>\n",
       "      <th>tbm</th>\n",
       "      <th>tbru</th>\n",
       "      <th>PAG</th>\n",
       "      <th>npr</th>\n",
       "      <th>fpr</th>\n",
       "      <th>FT</th>\n",
       "      <th>Cent</th>\n",
       "      <th>EXP_Y</th>\n",
       "      <th>DT</th>\n",
       "      <th>IT</th>\n",
       "      <th>RT</th>\n",
       "      <th>3rd_PT</th>\n",
       "      <th>Rnd_Int</th>\n",
       "      <th>FS</th>\n",
       "    </tr>\n",
       "  </thead>\n",
       "  <tbody>\n",
       "    <tr>\n",
       "      <th>35921</th>\n",
       "      <td>5450492</td>\n",
       "      <td>1047</td>\n",
       "      <td>21</td>\n",
       "      <td>1995</td>\n",
       "      <td>1992</td>\n",
       "      <td>2</td>\n",
       "      <td>380</td>\n",
       "      <td>699321</td>\n",
       "      <td>538</td>\n",
       "      <td>8</td>\n",
       "      <td>0.59376</td>\n",
       "      <td>5.087656e+06</td>\n",
       "      <td>0</td>\n",
       "      <td>10</td>\n",
       "      <td>3</td>\n",
       "      <td>0.0</td>\n",
       "      <td>0.0</td>\n",
       "      <td>0.00000</td>\n",
       "      <td>0.0</td>\n",
       "      <td>0.00000</td>\n",
       "      <td>0.0</td>\n",
       "      <td>0.00000</td>\n",
       "      <td>NaN</td>\n",
       "    </tr>\n",
       "    <tr>\n",
       "      <th>4119</th>\n",
       "      <td>5983295</td>\n",
       "      <td>739</td>\n",
       "      <td>12</td>\n",
       "      <td>1999</td>\n",
       "      <td>1997</td>\n",
       "      <td>1</td>\n",
       "      <td>710</td>\n",
       "      <td>596125</td>\n",
       "      <td>142</td>\n",
       "      <td>3</td>\n",
       "      <td>0.66667</td>\n",
       "      <td>5.539236e+06</td>\n",
       "      <td>0</td>\n",
       "      <td>0</td>\n",
       "      <td>2</td>\n",
       "      <td>0.0</td>\n",
       "      <td>0.0</td>\n",
       "      <td>0.00000</td>\n",
       "      <td>0.0</td>\n",
       "      <td>0.00000</td>\n",
       "      <td>0.0</td>\n",
       "      <td>0.05382</td>\n",
       "      <td>32.0</td>\n",
       "    </tr>\n",
       "    <tr>\n",
       "      <th>58294</th>\n",
       "      <td>4470022</td>\n",
       "      <td>803</td>\n",
       "      <td>8</td>\n",
       "      <td>1984</td>\n",
       "      <td>1982</td>\n",
       "      <td>5</td>\n",
       "      <td>331</td>\n",
       "      <td>597270</td>\n",
       "      <td>260</td>\n",
       "      <td>5</td>\n",
       "      <td>0.32000</td>\n",
       "      <td>3.710826e+06</td>\n",
       "      <td>0</td>\n",
       "      <td>0</td>\n",
       "      <td>6</td>\n",
       "      <td>0.0</td>\n",
       "      <td>0.8</td>\n",
       "      <td>0.00000</td>\n",
       "      <td>0.0</td>\n",
       "      <td>0.20000</td>\n",
       "      <td>0.0</td>\n",
       "      <td>0.00000</td>\n",
       "      <td>NaN</td>\n",
       "    </tr>\n",
       "    <tr>\n",
       "      <th>36067</th>\n",
       "      <td>5446912</td>\n",
       "      <td>608</td>\n",
       "      <td>34</td>\n",
       "      <td>1995</td>\n",
       "      <td>1993</td>\n",
       "      <td>2</td>\n",
       "      <td>712</td>\n",
       "      <td>278220</td>\n",
       "      <td>238</td>\n",
       "      <td>4</td>\n",
       "      <td>0.00000</td>\n",
       "      <td>4.998625e+06</td>\n",
       "      <td>9</td>\n",
       "      <td>0</td>\n",
       "      <td>2</td>\n",
       "      <td>0.0</td>\n",
       "      <td>3.0</td>\n",
       "      <td>1.50000</td>\n",
       "      <td>0.0</td>\n",
       "      <td>0.00000</td>\n",
       "      <td>0.0</td>\n",
       "      <td>0.13345</td>\n",
       "      <td>25.0</td>\n",
       "    </tr>\n",
       "    <tr>\n",
       "      <th>12510</th>\n",
       "      <td>5860861</td>\n",
       "      <td>705</td>\n",
       "      <td>12</td>\n",
       "      <td>1999</td>\n",
       "      <td>1997</td>\n",
       "      <td>3</td>\n",
       "      <td>463</td>\n",
       "      <td>0</td>\n",
       "      <td>51</td>\n",
       "      <td>17</td>\n",
       "      <td>0.73357</td>\n",
       "      <td>5.015979e+06</td>\n",
       "      <td>0</td>\n",
       "      <td>0</td>\n",
       "      <td>4</td>\n",
       "      <td>0.0</td>\n",
       "      <td>2.0</td>\n",
       "      <td>0.66666</td>\n",
       "      <td>0.0</td>\n",
       "      <td>0.33333</td>\n",
       "      <td>0.0</td>\n",
       "      <td>0.00000</td>\n",
       "      <td>NaN</td>\n",
       "    </tr>\n",
       "  </tbody>\n",
       "</table>\n",
       "</div>"
      ],
      "text/plain": [
       "           pat  lag_d  noc    gy    ay  noi  UMC    firm  MSA  tbm     tbru  \\\n",
       "35921  5450492   1047   21  1995  1992    2  380  699321  538    8  0.59376   \n",
       "4119   5983295    739   12  1999  1997    1  710  596125  142    3  0.66667   \n",
       "58294  4470022    803    8  1984  1982    5  331  597270  260    5  0.32000   \n",
       "36067  5446912    608   34  1995  1993    2  712  278220  238    4  0.00000   \n",
       "12510  5860861    705   12  1999  1997    3  463       0   51   17  0.73357   \n",
       "\n",
       "                PAG  npr  fpr FT  Cent  EXP_Y       DT   IT       RT  3rd_PT  \\\n",
       "35921  5.087656e+06    0   10  3   0.0    0.0  0.00000  0.0  0.00000     0.0   \n",
       "4119   5.539236e+06    0    0  2   0.0    0.0  0.00000  0.0  0.00000     0.0   \n",
       "58294  3.710826e+06    0    0  6   0.0    0.8  0.00000  0.0  0.20000     0.0   \n",
       "36067  4.998625e+06    9    0  2   0.0    3.0  1.50000  0.0  0.00000     0.0   \n",
       "12510  5.015979e+06    0    0  4   0.0    2.0  0.66666  0.0  0.33333     0.0   \n",
       "\n",
       "       Rnd_Int    FS  \n",
       "35921  0.00000   NaN  \n",
       "4119   0.05382  32.0  \n",
       "58294  0.00000   NaN  \n",
       "36067  0.13345  25.0  \n",
       "12510  0.00000   NaN  "
      ]
     },
     "execution_count": 96,
     "metadata": {},
     "output_type": "execute_result"
    }
   ],
   "source": [
    "X_train.head(5)"
   ]
  },
  {
   "cell_type": "code",
   "execution_count": 19,
   "metadata": {},
   "outputs": [
    {
     "data": {
      "text/plain": [
       "Pipeline(memory=None,\n",
       "         steps=[('imputer_num',\n",
       "                 MeanMedianImputer(imputation_method='median',\n",
       "                                   variables=['FS'])),\n",
       "                ('rare_label_enc',\n",
       "                 RareLabelCategoricalEncoder(n_categories=6, tol=0.01,\n",
       "                                             variables=['gy', 'ay', 'firm',\n",
       "                                                        'UMC', 'MSA', 'FT'])),\n",
       "                ('categorical_enc',\n",
       "                 OneHotCategoricalEncoder(drop_last=False, top_categories=None,\n",
       "                                          variables=['gy', 'ay', 'firm', 'UMC',\n",
       "                                                     'MSA', 'FT']))],\n",
       "         verbose=False)"
      ]
     },
     "execution_count": 19,
     "metadata": {},
     "output_type": "execute_result"
    }
   ],
   "source": [
    "patent_preprocess.fit(X_train,y_train)"
   ]
  },
  {
   "cell_type": "code",
   "execution_count": 20,
   "metadata": {},
   "outputs": [],
   "source": [
    "# Apply Transformations\n",
    "X_train=patent_preprocess.transform(X_train)\n",
    "X_test=patent_preprocess.transform(X_test)"
   ]
  },
  {
   "cell_type": "code",
   "execution_count": 43,
   "metadata": {},
   "outputs": [
    {
     "name": "stdout",
     "output_type": "stream",
     "text": [
      "Mean Cross-validation scores: [0.15920034 0.16007282 0.14964755]\n",
      "\n",
      "lr.coef_: [-1.40028510e-05 -2.76455330e-03  2.92540197e-01  1.47944765e+00\n",
      "  9.18654933e-02  5.00282429e+00  2.04537648e-06  1.40919346e-01\n",
      "  2.41967374e-01 -9.71512217e-02 -1.15089963e-01 -1.22607065e-01\n",
      "  3.44724717e-04 -7.21109854e-01 -3.29783367e+00 -1.05350740e-02\n",
      "  9.64932032e-03  5.37467518e+00  2.05439234e+00 -7.98825092e+00\n",
      "  4.70045634e+00 -9.24122385e+00 -3.02318072e+00  6.71892190e+00\n",
      "  3.08795212e+00  2.86237571e-01  4.10577828e+00  1.08537866e+00\n",
      "  2.01647707e+00  3.31320797e+00  3.72612784e-02  8.35967918e+00\n",
      " -6.85262533e+00 -8.07597563e-01 -2.99223120e+00 -1.02353083e+01\n",
      " -2.39271673e+00 -5.60431709e+00  3.53747894e+00 -3.02927035e+00\n",
      " -2.04781999e+00  1.61112462e+00  5.34660500e+00 -3.44826127e-01\n",
      " -3.70158225e+00 -4.07386021e+00  6.07934470e-01 -1.59938376e+00\n",
      "  1.22767029e+00  6.45200728e-01 -3.89171402e+00  1.35042028e+00\n",
      "  3.17476486e+00  6.62450634e+00  2.55978498e+00  1.47749651e-01\n",
      " -1.12269368e+00  1.16752796e+01 -1.97625996e+00  2.99254953e+00\n",
      "  3.93718165e-01 -2.43292046e+00 -3.86153890e+00  1.39595358e+00\n",
      " -2.59513319e+00  5.55682109e+00 -5.14889931e-01 -4.09899498e+00\n",
      " -1.71629831e+00 -2.09494525e+00 -6.01633566e+00 -5.34281612e-01\n",
      "  1.54686329e+00  3.25535700e+00  4.01216143e+00 -4.40674035e+00\n",
      " -1.42661036e+00 -5.33238459e+00  6.08158312e+00 -4.76668731e+00\n",
      " -4.67288624e+00  1.20268963e+01 -4.25102432e+00  2.18210805e+00\n",
      "  7.96641141e+00 -3.65877338e-01 -4.24159569e+00 -2.30984839e+00\n",
      "  1.75015946e+00 -5.33668060e+00 -6.64641053e+00 -2.58778379e+00\n",
      "  9.93181011e+00 -6.09511209e+00  5.61483885e+00 -1.06052579e+01\n",
      "  4.21602573e-01  2.07880664e+01  4.81867601e+00 -7.62930814e+00\n",
      " -1.24102564e+01  1.22314961e+01 -4.21882016e+00 -5.22525648e-01\n",
      " -3.60472048e+00 -2.28462351e+00  3.04744147e+00  2.43646323e+00\n",
      " -1.32069785e+00 -5.11758226e+00  3.51430858e+00  7.30398745e-01\n",
      "  4.49839108e+00  7.58181029e-01  4.98982552e+00 -4.00081246e-01\n",
      " -9.33386617e-01  1.08568139e+01 -4.00402017e+00 -1.40165520e+00\n",
      "  9.63648530e-01 -7.96396555e+00  8.81433313e-01  3.53572197e+00\n",
      " -4.32312562e+00 -1.04952756e+00 -2.32104746e+00 -1.48819381e+00\n",
      "  1.11729537e+00  6.51089329e+00 -3.78584590e+00 -3.84234276e+00]\n",
      "lr.intercept_: 78.45292564211312\n",
      "LR Performance Train:  0.16443779924052737\n",
      "LR Performance Test:  0.1661860061271352\n"
     ]
    }
   ],
   "source": [
    "# Train a linear regression model, report the coefficients and model performance \n",
    "\n",
    "from sklearn.linear_model import LinearRegression\n",
    "from sklearn.model_selection import cross_val_score\n",
    "import warnings\n",
    "warnings.filterwarnings('ignore')\n",
    "\n",
    "lr = LinearRegression().fit(X_train, y_train)\n",
    "cv_scores = cross_val_score(lr, X_train, y_train)\n",
    "\n",
    "# Mean Cross validation Score\n",
    "print(\"Mean Cross-validation scores: {}\".format(cv_scores))\n",
    "print()\n",
    "# Print Co-efficients\n",
    "print(\"lr.coef_:\", lr.coef_)\n",
    "print(\"lr.intercept_:\", lr.intercept_)\n",
    "\n",
    "# Check train data set performance\n",
    "print(\"LR Performance Train: \", lr.score(X_train,y_train))\n",
    "\n",
    "# check test data set performance\n",
    "print(\"LR Performance Test: \", lr.score(X_test,y_test))"
   ]
  },
  {
   "cell_type": "code",
   "execution_count": 26,
   "metadata": {},
   "outputs": [
    {
     "name": "stdout",
     "output_type": "stream",
     "text": [
      "Best Mean Cross-validation score: 0.16\n",
      "\n",
      "Ridge parameters:  {'alpha': 1}\n",
      "Ridge.coef_: [-1.44935250e-05 -2.57948017e-03  2.92577207e-01  1.47940241e+00\n",
      "  9.19050881e-02  5.00110283e+00  2.04685669e-06  1.40894708e-01\n",
      "  2.42004634e-01 -4.84583931e-02 -1.15454627e-01 -1.22681044e-01\n",
      "  3.43039464e-04 -7.21250283e-01 -3.28649641e+00 -1.05422460e-02\n",
      "  9.63574664e-03  5.22429166e+00  1.89301311e+00 -7.67490203e+00\n",
      "  4.53424966e+00 -8.92805831e+00 -2.85433366e+00  6.58707092e+00\n",
      "  2.91537315e+00  3.40988038e-01  4.02650755e+00  1.08750759e+00\n",
      "  1.97319721e+00  3.13743543e+00 -1.07628339e-01  8.24910367e+00\n",
      " -6.62513543e+00 -9.40929190e-01 -2.88531384e+00 -9.95243718e+00\n",
      " -2.04806631e+00 -4.93838881e+00  3.01174647e+00 -2.61688442e+00\n",
      " -1.56932956e+00  1.02642736e+00  4.90017002e+00 -9.76837424e-01\n",
      " -3.42831744e+00 -3.53480361e+00  6.31394736e-01 -1.40282013e+00\n",
      "  1.34042245e+00  3.27525300e-02 -3.28790544e+00  1.09468925e+00\n",
      "  3.10129268e+00  6.26697871e+00  2.39747894e+00  1.51929827e-01\n",
      " -1.11207499e+00  1.15777627e+01 -1.96359879e+00  2.99260933e+00\n",
      "  4.07879663e-01 -2.42894438e+00 -3.85259903e+00  1.40278183e+00\n",
      " -2.59069908e+00  5.54889825e+00 -5.08574365e-01 -4.09040161e+00\n",
      " -1.71236179e+00 -2.08650644e+00 -6.00259088e+00 -5.25366360e-01\n",
      "  1.54460064e+00  3.24725541e+00  4.00358240e+00 -4.40340547e+00\n",
      " -1.42778929e+00 -5.32818864e+00  6.08147515e+00 -4.76483134e+00\n",
      " -4.67075216e+00  1.20223243e+01 -4.24500426e+00  2.18274766e+00\n",
      "  7.95779122e+00 -3.69183637e-01 -4.23494864e+00 -2.30717952e+00\n",
      "  1.74959021e+00 -5.32746869e+00 -6.64249163e+00 -2.58577415e+00\n",
      "  9.92382916e+00 -6.09118454e+00  5.60335672e+00 -1.05932141e+01\n",
      "  4.20484684e-01  2.07764635e+01  4.81505888e+00 -7.61924051e+00\n",
      " -1.23938143e+01  1.22055565e+01 -4.21631635e+00 -5.21473175e-01\n",
      " -3.60240583e+00 -2.28371594e+00  3.04200363e+00  2.42956337e+00\n",
      " -1.32205161e+00 -5.11781188e+00  3.51233983e+00  7.26991409e-01\n",
      "  4.49572930e+00  7.61783079e-01  4.98781642e+00 -4.03605519e-01\n",
      " -9.34140314e-01  1.08403468e+01 -3.99738433e+00 -1.39846344e+00\n",
      "  9.62800217e-01 -7.95226772e+00  8.79177683e-01  3.53358138e+00\n",
      " -4.30916298e+00 -1.04828725e+00 -2.31755882e+00 -1.48527743e+00\n",
      "  1.07684784e+00  6.47368312e+00 -3.77485343e+00 -3.77567753e+00]\n",
      "Ridge.intercept_: 80.7490694036175\n",
      "Ridge Test Performance:  0.1661922740152575\n",
      "Ridge Train Performance:  0.16443711032081984\n",
      "train mse: 911.3325557722592\n",
      "train rmse: 30.188285075046235\n",
      "train r2: 0.16443711032081987\n",
      "\n",
      "test mse: 975.0983627592045\n",
      "test rmse: 31.2265650169724\n",
      "test r2: 0.1661922740152575\n"
     ]
    }
   ],
   "source": [
    "# Train a Ridge regression model, report the coefficients, the best parameters, and model performance \n",
    "from sklearn.model_selection import GridSearchCV\n",
    "from sklearn.linear_model import Ridge\n",
    "from sklearn.metrics import mean_squared_error, r2_score\n",
    "import warnings\n",
    "warnings.filterwarnings('ignore')\n",
    "ridge = Ridge()\n",
    "\n",
    "#define a list of parameters\n",
    "param_ridge = {'alpha':[0.01, 0.1, 1] }\n",
    "\n",
    "grid_ridge = GridSearchCV(ridge, param_ridge, cv=10, return_train_score = True)\n",
    "grid_ridge.fit(X_train, y_train)\n",
    "\n",
    "# Mean Cross Validation Score\n",
    "print(\"Best Mean Cross-validation score: {:.2f}\".format(grid_ridge.best_score_))\n",
    "\n",
    "print()\n",
    "\n",
    "#find best parameters\n",
    "print('Ridge parameters: ', grid_ridge.best_params_)\n",
    "\n",
    "# print co-eff\n",
    "\n",
    "print(\"Ridge.coef_:\", grid_ridge.best_estimator_.coef_)\n",
    "print(\"Ridge.intercept_:\", grid_ridge.best_estimator_.intercept_)\n",
    "\n",
    "# Check test data set performance\n",
    "\n",
    "print(\"Ridge Test Performance: \", grid_ridge.score(X_test,y_test))\n",
    "\n",
    "# Check train data set performance\n",
    "\n",
    "print(\"Ridge Train Performance: \", grid_ridge.score(X_train,y_train))\n",
    "\n",
    "# let's get the predictions\n",
    "X_train_preds = grid_ridge.predict(X_train)\n",
    "X_test_preds = grid_ridge.predict(X_test)\n",
    "\n",
    "print('train mse: {}'.format(mean_squared_error(y_train, X_train_preds)))\n",
    "print('train rmse: {}'.format(sqrt(mean_squared_error(y_train, X_train_preds))))\n",
    "print('train r2: {}'.format(r2_score(y_train, X_train_preds)))\n",
    "print()\n",
    "print('test mse: {}'.format(mean_squared_error(y_test, X_test_preds)))\n",
    "print('test rmse: {}'.format(sqrt(mean_squared_error(y_test, X_test_preds))))\n",
    "print('test r2: {}'.format(r2_score(y_test, X_test_preds)))"
   ]
  },
  {
   "cell_type": "code",
   "execution_count": 102,
   "metadata": {},
   "outputs": [
    {
     "name": "stdout",
     "output_type": "stream",
     "text": [
      "Best Mean Cross-validation score: 0.16\n",
      "\n",
      "Lasso parameters:  {'alpha': 0.01}\n",
      "Lasso.coef_: [-1.51151607e-05 -2.03593575e-03  2.94347749e-01  1.46771763e+00\n",
      "  9.33426537e-02  4.87039050e+00  2.08442164e-06  1.41446750e-01\n",
      "  2.41761965e-01  0.00000000e+00 -1.20978621e-01 -1.32487345e-01\n",
      "  2.51497655e-04 -7.03151564e-01 -1.57951200e+00 -9.84110478e-03\n",
      "  9.09189690e-03  2.46829975e+00 -1.01111395e+00 -5.49559895e+00\n",
      "  1.66196801e+00 -9.35831936e+00 -0.00000000e+00  3.99177804e+00\n",
      " -0.00000000e+00  1.13554282e+00  2.22857225e+00  7.64961847e-01\n",
      "  7.84313572e-01  1.07784260e-01 -2.98594555e+00  5.91003818e+00\n",
      " -2.61653268e+00 -3.27599258e+00 -4.93315665e-01 -6.59675430e+00\n",
      "  1.87639522e-01 -1.77771547e+00 -5.52448588e-02  0.00000000e+00\n",
      "  1.15630048e+00 -6.16786763e-01  0.00000000e+00 -3.39912780e-01\n",
      " -1.13690173e+00 -5.37006703e-01  3.52889359e-01  0.00000000e+00\n",
      "  2.03644282e+00 -0.00000000e+00 -2.24319402e-01 -1.32314587e+00\n",
      "  1.63347234e+00  1.83436232e+00  0.00000000e+00  6.29602602e-01\n",
      " -0.00000000e+00  7.67215052e+00 -6.99444478e-01  3.05136176e+00\n",
      "  8.58419641e-01 -1.26037858e+00 -3.12377363e+00  1.30235554e+00\n",
      " -1.51785579e+00  4.42051817e+00  0.00000000e+00 -2.58539167e+00\n",
      " -7.86286916e-01 -7.80996672e-01 -4.74103512e+00  0.00000000e+00\n",
      "  3.56109326e-01  3.15114464e+00  4.61222452e+00 -2.69607762e+00\n",
      "  4.42290503e-04 -3.58398197e+00  7.44019192e+00 -3.09013172e+00\n",
      " -2.99844834e+00  1.32373952e+01 -1.83949653e+00  3.47911799e+00\n",
      "  9.01927356e+00  4.95592299e-01 -2.16374990e+00 -6.73036565e-01\n",
      "  2.71842885e+00 -3.23314771e+00 -4.82143295e+00 -9.02655732e-01\n",
      "  1.10812748e+01 -4.32935401e+00  6.33773069e+00 -8.61296500e+00\n",
      "  1.17075938e+00  2.20078623e+01  5.90655813e+00 -5.45532784e+00\n",
      " -1.03346294e+01  1.27658560e+01 -2.29028814e+00  1.74144155e-02\n",
      " -2.32693252e+00 -1.37733395e+00  2.68916487e+00  2.04428798e+00\n",
      " -7.04217723e-01 -4.32519837e+00  4.03576373e+00  4.73240613e-01\n",
      "  4.93092651e+00  1.32984817e+00  5.40892112e+00  0.00000000e+00\n",
      " -0.00000000e+00  1.07349752e+01 -2.38432547e+00 -2.15604517e-02\n",
      "  1.07081215e+00 -6.42796932e+00  5.55965264e-01  3.73044188e+00\n",
      " -2.09624106e+00 -0.00000000e+00 -9.13549433e-01 -0.00000000e+00\n",
      "  0.00000000e+00  5.74863366e+00 -1.92092696e+00 -0.00000000e+00]\n",
      "Lasso.intercept_: 81.85757974632217\n",
      "Lasso Test Performance:  0.16540878793104863\n",
      "Lasso Train Performance:  0.16374525867607903\n"
     ]
    }
   ],
   "source": [
    "# Train a Lasso regression model, report the coefficients, the best parameters, and model performance \n",
    "\n",
    "# YOUR CODE HERE\n",
    "\n",
    "from sklearn.linear_model import Lasso\n",
    "lasso = Lasso(random_state=0)\n",
    "import warnings\n",
    "warnings.filterwarnings('ignore')\n",
    "\n",
    "#define a list of parameters\n",
    "param_lasso = {'alpha':[0.01, 0.1, 1] }\n",
    "\n",
    "grid_lasso = GridSearchCV(lasso, param_lasso, cv=10, return_train_score = True)\n",
    "grid_lasso.fit(X_train, y_train)\n",
    "\n",
    "\n",
    "# Mean Cross Validation Score\n",
    "print(\"Best Mean Cross-validation score: {:.2f}\".format(grid_lasso.best_score_))\n",
    "print()\n",
    "\n",
    "#find best parameters\n",
    "print('Lasso parameters: ', grid_lasso.best_params_)\n",
    "\n",
    "# print co-eff\n",
    "\n",
    "print(\"Lasso.coef_:\", grid_lasso.best_estimator_.coef_)\n",
    "print(\"Lasso.intercept_:\", grid_lasso.best_estimator_.intercept_)\n",
    "\n",
    "# Check test data set performance\n",
    "print(\"Lasso Test Performance: \", grid_lasso.score(X_test,y_test))\n",
    "\n",
    "# Check train data set performance\n",
    "print(\"Lasso Train Performance: \", grid_lasso.score(X_train,y_train))\n",
    "\n",
    "\n",
    "# check model performance:\n",
    "\n",
    "# let's get the predictions\n",
    "X_train_preds = grid_lasso.predict(X_train)\n",
    "X_test_preds = grid_lasso.predict(X_test)\n"
   ]
  },
  {
   "cell_type": "code",
   "execution_count": 104,
   "metadata": {},
   "outputs": [
    {
     "name": "stdout",
     "output_type": "stream",
     "text": [
      "Best Mean Cross-validation score: 0.16\n",
      "\n",
      "Enet parameters:  {'alpha': 0.01, 'l1_ratio': 1}\n",
      "Enet.coef_: [-1.51151607e-05 -2.03593575e-03  2.94347749e-01  1.46771763e+00\n",
      "  9.33426537e-02  4.87039050e+00  2.08442164e-06  1.41446750e-01\n",
      "  2.41761965e-01  0.00000000e+00 -1.20978621e-01 -1.32487345e-01\n",
      "  2.51497655e-04 -7.03151564e-01 -1.57951200e+00 -9.84110478e-03\n",
      "  9.09189690e-03  2.46829975e+00 -1.01111395e+00 -5.49559895e+00\n",
      "  1.66196801e+00 -9.35831936e+00 -0.00000000e+00  3.99177804e+00\n",
      " -0.00000000e+00  1.13554282e+00  2.22857225e+00  7.64961847e-01\n",
      "  7.84313572e-01  1.07784260e-01 -2.98594555e+00  5.91003818e+00\n",
      " -2.61653268e+00 -3.27599258e+00 -4.93315665e-01 -6.59675430e+00\n",
      "  1.87639522e-01 -1.77771547e+00 -5.52448588e-02  0.00000000e+00\n",
      "  1.15630048e+00 -6.16786763e-01  0.00000000e+00 -3.39912780e-01\n",
      " -1.13690173e+00 -5.37006703e-01  3.52889359e-01  0.00000000e+00\n",
      "  2.03644282e+00 -0.00000000e+00 -2.24319402e-01 -1.32314587e+00\n",
      "  1.63347234e+00  1.83436232e+00  0.00000000e+00  6.29602602e-01\n",
      " -0.00000000e+00  7.67215052e+00 -6.99444478e-01  3.05136176e+00\n",
      "  8.58419641e-01 -1.26037858e+00 -3.12377363e+00  1.30235554e+00\n",
      " -1.51785579e+00  4.42051817e+00  0.00000000e+00 -2.58539167e+00\n",
      " -7.86286916e-01 -7.80996672e-01 -4.74103512e+00  0.00000000e+00\n",
      "  3.56109326e-01  3.15114464e+00  4.61222452e+00 -2.69607762e+00\n",
      "  4.42290503e-04 -3.58398197e+00  7.44019192e+00 -3.09013172e+00\n",
      " -2.99844834e+00  1.32373952e+01 -1.83949653e+00  3.47911799e+00\n",
      "  9.01927356e+00  4.95592299e-01 -2.16374990e+00 -6.73036565e-01\n",
      "  2.71842885e+00 -3.23314771e+00 -4.82143295e+00 -9.02655732e-01\n",
      "  1.10812748e+01 -4.32935401e+00  6.33773069e+00 -8.61296500e+00\n",
      "  1.17075938e+00  2.20078623e+01  5.90655813e+00 -5.45532784e+00\n",
      " -1.03346294e+01  1.27658560e+01 -2.29028814e+00  1.74144155e-02\n",
      " -2.32693252e+00 -1.37733395e+00  2.68916487e+00  2.04428798e+00\n",
      " -7.04217723e-01 -4.32519837e+00  4.03576373e+00  4.73240613e-01\n",
      "  4.93092651e+00  1.32984817e+00  5.40892112e+00  0.00000000e+00\n",
      " -0.00000000e+00  1.07349752e+01 -2.38432547e+00 -2.15604517e-02\n",
      "  1.07081215e+00 -6.42796932e+00  5.55965264e-01  3.73044188e+00\n",
      " -2.09624106e+00 -0.00000000e+00 -9.13549433e-01 -0.00000000e+00\n",
      "  0.00000000e+00  5.74863366e+00 -1.92092696e+00 -0.00000000e+00]\n",
      "Enet.intercept_: 81.85757974632217\n",
      "Enet Test Performance:  0.16540878793104863\n",
      "Enet Train Performance:  0.16374525867607903\n"
     ]
    }
   ],
   "source": [
    "# Train a ElasticNet regression model, report the coefficients, the best parameters, and model performance \n",
    "\n",
    "# YOUR CODE HERE\n",
    "\n",
    "from sklearn.linear_model import ElasticNet\n",
    "from sklearn.model_selection import GridSearchCV\n",
    "import warnings\n",
    "warnings.filterwarnings('ignore')\n",
    "Elasticnet = ElasticNet()\n",
    "\n",
    "#define a list of parameters\n",
    "param_Enet = {'alpha':[0.01, 0.1, 1],\n",
    "             'l1_ratio': [0, 0.25, 0.5, 0.75, 1]}\n",
    "\n",
    "grid_Enet = GridSearchCV(Elasticnet, param_Enet, cv=10, return_train_score = True)\n",
    "grid_Enet.fit(X_train, y_train)\n",
    "\n",
    "# Mean Cross Validation Score\n",
    "print(\"Best Mean Cross-validation score: {:.2f}\".format(grid_Enet.best_score_))\n",
    "print()\n",
    "\n",
    "#find best parameters\n",
    "print('Enet parameters: ', grid_Enet.best_params_)\n",
    "\n",
    "# print co-eff\n",
    "\n",
    "print(\"Enet.coef_:\", grid_Enet.best_estimator_.coef_)\n",
    "print(\"Enet.intercept_:\", grid_Enet.best_estimator_.intercept_)\n",
    "\n",
    "# Check test data set performance\n",
    "print(\"Enet Test Performance: \", grid_Enet.score(X_test,y_test))\n",
    "\n",
    "# Check train data set performance\n",
    "print(\"Enet Train Performance: \", grid_Enet.score(X_train,y_train))"
   ]
  },
  {
   "cell_type": "code",
   "execution_count": 27,
   "metadata": {},
   "outputs": [
    {
     "name": "stdout",
     "output_type": "stream",
     "text": [
      "Best Mean Cross-validation score: -921.20\n",
      "\n",
      "train mse: 911.3321424010899\n",
      "train rmse: 30.18827822849607\n",
      "train r2: 0.1644374893236401\n",
      "\n",
      "test mse: 975.1034467963618\n",
      "test rmse: 31.226646422508484\n",
      "test r2: 0.16618792664926563\n",
      "Best parameters:  {'polynomialfeatures__degree': 1}\n"
     ]
    }
   ],
   "source": [
    "from sklearn.model_selection import GridSearchCV\n",
    "from sklearn.preprocessing  import PolynomialFeatures\n",
    "from sklearn.pipeline import make_pipeline\n",
    "from sklearn.linear_model import LinearRegression\n",
    "from sklearn.pipeline import Pipeline\n",
    "from sklearn.preprocessing import MinMaxScaler\n",
    "from sklearn.metrics import mean_squared_error, r2_score\n",
    "from math import sqrt\n",
    "\n",
    "#apply polynomial regression in pipeline\n",
    "#pipe_poly = make_pipeline(PolynomialFeatures(),MinMaxScaler(), LinearRegression())\n",
    "pipe_poly=Pipeline([ \n",
    "    ('polynomialfeatures', PolynomialFeatures()),\n",
    "    ('scaler',MinMaxScaler()),\n",
    "    ('norm_reg', LinearRegression())\n",
    "    \n",
    "])\n",
    "#define a list of parameters\n",
    "param_poly = {'polynomialfeatures__degree':range(1,2)}\n",
    "\n",
    "grid_poly = GridSearchCV(pipe_poly, param_poly,cv=5, n_jobs=-1, return_train_score = True,scoring='neg_mean_squared_error')\n",
    "\n",
    "\n",
    "grid_poly.fit(X_train, y_train)\n",
    "\n",
    "# let's get the predictions\n",
    "X_train_preds = grid_poly.predict(X_train)\n",
    "X_test_preds = grid_poly.predict(X_test)\n",
    "\n",
    "# check model performance:\n",
    "\n",
    "# Mean Cross Validation Score\n",
    "print(\"Best Mean Cross-validation score: {:.2f}\".format(grid_poly.best_score_))\n",
    "print()\n",
    "\n",
    "print('train mse: {}'.format(mean_squared_error(y_train, X_train_preds)))\n",
    "print('train rmse: {}'.format(sqrt(mean_squared_error(y_train, X_train_preds))))\n",
    "print('train r2: {}'.format(r2_score(y_train, X_train_preds)))\n",
    "print()\n",
    "print('test mse: {}'.format(mean_squared_error(y_test, X_test_preds)))\n",
    "print('test rmse: {}'.format(sqrt(mean_squared_error(y_test, X_test_preds))))\n",
    "print('test r2: {}'.format(r2_score(y_test, X_test_preds)))\n",
    "\n",
    "#find best parameters\n",
    "print('Best parameters: ', grid_poly.best_params_)"
   ]
  },
  {
   "cell_type": "code",
   "execution_count": null,
   "metadata": {},
   "outputs": [],
   "source": [
    "from sklearn.model_selection import GridSearchCV\n",
    "from sklearn.preprocessing  import PolynomialFeatures\n",
    "from sklearn.pipeline import make_pipeline\n",
    "from sklearn.linear_model import LinearRegression\n",
    "from sklearn.pipeline import Pipeline\n",
    "from sklearn.preprocessing import MinMaxScaler\n",
    "from sklearn.metrics import mean_squared_error, r2_score\n",
    "from math import sqrt\n",
    "from sklearn.linear_model import Lasso\n",
    "lasso = Lasso(random_state=0)\n",
    "from sklearn.linear_model import Ridge\n",
    "ridge = Ridge()\n",
    "\n",
    "#apply polynomial regression in pipeline\n",
    "#pipe_poly = make_pipeline(PolynomialFeatures(),MinMaxScaler(), LinearRegression())\n",
    "#pipe_poly=Pipeline([ \n",
    "    #('polynomialfeatures', PolynomialFeatures()),\n",
    "    #('scaler',MinMaxScaler()),\n",
    "    #('norm_reg', LinearRegression())\n",
    "    \n",
    "#])\n",
    "#define a list of parameters\n",
    "#param_poly = {'polynomialfeatures__degree':range(1,2)}\n",
    "\n",
    "\n",
    "pipe_poly=Pipeline([ \n",
    "    ('polynomialfeatures', PolynomialFeatures(degree=2))\n",
    "    ,('norm_reg',LinearRegression())\n",
    "])\n",
    "    \n",
    "param_poly = [{'norm_reg':[LinearRegression()]},\n",
    "              {'norm_reg':[Lasso()],'norm_reg__alpha':[0.01,0.1,1]},\n",
    "              {'norm_reg':[Ridge()],'norm_reg__alpha':[0.01,0.1,1]}\n",
    "             ]\n",
    "\n",
    "grid_poly = GridSearchCV(pipe_poly, param_poly,cv=5, n_jobs=-1, return_train_score = True,scoring='neg_mean_squared_error')\n",
    "\n",
    "\n",
    "grid_poly.fit(X_train, y_train)\n",
    "\n",
    "# let's get the predictions\n",
    "X_train_preds = grid_poly.predict(X_train)\n",
    "X_test_preds = grid_poly.predict(X_test)\n",
    "\n",
    "# Mean Cross Validation Score\n",
    "print(\"Best Mean Cross-validation score: {:.2f}\".format(grid_poly.best_score_))\n",
    "print()\n",
    "\n",
    "print('train mse: {}'.format(mean_squared_error(y_train, X_train_preds)))\n",
    "print('train rmse: {}'.format(sqrt(mean_squared_error(y_train, X_train_preds))))\n",
    "print('train r2: {}'.format(r2_score(y_train, X_train_preds)))\n",
    "print()\n",
    "print('test mse: {}'.format(mean_squared_error(y_test, X_test_preds)))\n",
    "print('test rmse: {}'.format(sqrt(mean_squared_error(y_test, X_test_preds))))\n",
    "print('test r2: {}'.format(r2_score(y_test, X_test_preds)))\n",
    "\n",
    "#find best parameters\n",
    "print('Best parameters: ', grid_poly.best_params_)\n"
   ]
  },
  {
   "cell_type": "code",
   "execution_count": 24,
   "metadata": {},
   "outputs": [
    {
     "name": "stdout",
     "output_type": "stream",
     "text": [
      "Best Mean Cross-validation score: -0.12\n",
      "\n",
      "KNN parameters:  {'algorithm': 'auto', 'leaf_size': 10, 'n_neighbors': 6, 'weights': 'uniform'}\n",
      "KNN Train Performance:  0.1929190027930117\n",
      "KNN Test Performance:  -0.10160022577034544\n"
     ]
    }
   ],
   "source": [
    "# Train a KNN regression model, report the coefficients, the best parameters, and model performance \n",
    "\n",
    "import sklearn.neighbors\n",
    "from sklearn.neighbors import KNeighborsRegressor\n",
    "from sklearn import metrics\n",
    "from sklearn.preprocessing import scale\n",
    "from collections import Counter\n",
    "from sklearn.model_selection import GridSearchCV\n",
    "\n",
    "\n",
    "# Train a KNN model for regression, report the coefficients, the best parameters, and model performance \n",
    "# hint: find the optimal k\n",
    "\n",
    "# YOUR CODE HERE\n",
    "\n",
    "knn = KNeighborsRegressor()\n",
    "\n",
    "# define a list of parameters\n",
    "\n",
    "param_knn = {'n_neighbors': range(1,7),\n",
    "            'weights':['uniform'],\n",
    "            'algorithm':['auto'],\n",
    "            'leaf_size':[10,20]}\n",
    "\n",
    "#apply grid search\n",
    "grid_knn = GridSearchCV(knn, param_knn, cv=5, return_train_score=True)\n",
    "grid_knn.fit(X_train, y_train)\n",
    "\n",
    "# Mean Cross Validation Score\n",
    "print(\"Best Mean Cross-validation score: {:.2f}\".format(grid_knn.best_score_))\n",
    "print()\n",
    "\n",
    "#find best parameters\n",
    "print('KNN parameters: ', grid_knn.best_params_)\n",
    "\n",
    "# Check train data set performance\n",
    "print(\"KNN Train Performance: \", grid_knn.score(X_train,y_train))\n",
    "\n",
    "# Check test data set performance\n",
    "print(\"KNN Test Performance: \", grid_knn.score(X_test,y_test))\n"
   ]
  },
  {
   "cell_type": "code",
   "execution_count": 28,
   "metadata": {},
   "outputs": [
    {
     "name": "stdout",
     "output_type": "stream",
     "text": [
      "Best Mean Cross-validation score: -57926851763724232.00\n",
      "\n",
      "SGD parameters:  {'alpha': 0.0001, 'eta0': 0.1, 'learning_rate': 'optimal', 'loss': 'huber', 'max_iter': 100, 'penalty': 'None'}\n",
      "SGD Train Performance:  -9.859042923907144e+16\n",
      "SGD Test Performance:  -9.190451132477949e+16\n"
     ]
    }
   ],
   "source": [
    "# Train a SGD Linear regression model, report the coefficients, the best parameters, and model performance \n",
    "\n",
    "from sklearn.linear_model import SGDRegressor\n",
    "from sklearn.model_selection import GridSearchCV\n",
    "import warnings\n",
    "warnings.filterwarnings('ignore')\n",
    "\n",
    "sgd = SGDRegressor()\n",
    "\n",
    "##param_sgd = {max_iter=50, penalty=None, eta0=0.1}\n",
    "\n",
    "param_sgd = {\n",
    "    'alpha': [0.0001],\n",
    "    'loss': ['squared_loss', 'huber', 'epsilon_insensitive'],\n",
    "    'penalty': ['l2', 'l1', 'elasticnet'],\n",
    "    'learning_rate': ['optimal'],\n",
    "    'max_iter':[100], 'penalty':['None'], 'eta0':[0.1]\n",
    "}\n",
    "\n",
    "#apply grid search\n",
    "grid_sgd = GridSearchCV(sgd, param_sgd, cv=5, return_train_score=True)\n",
    "grid_sgd.fit(X_train, y_train)\n",
    "\n",
    "# Mean Cross Validation Score\n",
    "print(\"Best Mean Cross-validation score: {:.2f}\".format(grid_sgd.best_score_))\n",
    "print()\n",
    "\n",
    "#find best parameters\n",
    "print('SGD parameters: ', grid_sgd.best_params_)\n",
    "\n",
    "# Check train data set performance\n",
    "print(\"SGD Train Performance: \", grid_sgd.score(X_train,y_train))\n",
    "\n",
    "# Check test data set performance\n",
    "print(\"SGD Test Performance: \", grid_sgd.score(X_test,y_test))"
   ]
  },
  {
   "cell_type": "code",
   "execution_count": null,
   "metadata": {},
   "outputs": [],
   "source": [
    "# Train a SVM regression model, report the coefficients, the best parameters, and model performance \n",
    "\n",
    "\n",
    "from sklearn.svm import SVR\n",
    "from sklearn.model_selection import GridSearchCV\n",
    "import warnings\n",
    "warnings.filterwarnings('ignore')\n",
    "\n",
    "\n",
    "svr = SVR()\n",
    "param_svr = {'kernel': ['poly'], 'C':[1],'gamma': [1e-7, 1e-1],'epsilon':[0,0.1,0.2,0.5,0.3]}\n",
    "\n",
    "#apply grid search\n",
    "grid_svr = GridSearchCV(svr, param_svr, cv=10, return_train_score=True)\n",
    "grid_svr.fit(X_train, y_train)\n",
    "\n",
    "#find best parameters\n",
    "print('SVR parameters: ', grid_svr.best_params_)\n",
    "\n",
    "# Check train data set performance\n",
    "print(\"SVR Train Performance: \", grid_svr.score(X_train,y_train))\n",
    "\n",
    "# Check test data set performance\n",
    "print(\"SVR Test Performance: \", grid_svr.score(X_test,y_test))"
   ]
  },
  {
   "cell_type": "code",
   "execution_count": 30,
   "metadata": {},
   "outputs": [
    {
     "name": "stdout",
     "output_type": "stream",
     "text": [
      "SVR parameters:  {'C': 1, 'epsilon': 0, 'max_iter': 1000, 'tol': 0.0001}\n",
      "SVR Train Performance:  -0.5070399461602875\n",
      "SVR Test Performance:  -0.48135362134478266\n"
     ]
    }
   ],
   "source": [
    "# Train a SVM regression model, report the coefficients, the best parameters, and model performance \n",
    "\n",
    "\n",
    "from sklearn.svm import LinearSVR\n",
    "from sklearn.model_selection import GridSearchCV\n",
    "\n",
    "\n",
    "svr = LinearSVR()\n",
    "param_svrlinear = {'tol': [1e-4], 'C':[1],'max_iter': [1000],'epsilon':[0]}\n",
    "\n",
    "#apply grid search\n",
    "grid_svr = GridSearchCV(svr, param_svrlinear, cv=10, return_train_score=True)\n",
    "grid_svr.fit(X_train, y_train)\n",
    "\n",
    "#find best parameters\n",
    "print('SVR parameters: ', grid_svr.best_params_)\n",
    "\n",
    "# Check train data set performance\n",
    "print(\"SVR Train Performance: \", grid_svr.score(X_train,y_train))\n",
    "\n",
    "# Check test data set performance\n",
    "print(\"SVR Test Performance: \", grid_svr.score(X_test,y_test))"
   ]
  },
  {
   "cell_type": "code",
   "execution_count": 23,
   "metadata": {},
   "outputs": [
    {
     "name": "stdout",
     "output_type": "stream",
     "text": [
      "Best Mean Cross-validation score: 0.08\n",
      "\n",
      "Decision Tree Regressor parameters:  {'max_depth': 5}\n",
      "Decision Tree Regressor Train Performance:  0.11817371862582349\n",
      "Decision Tree Regressor Test Performance:  0.07999412702169395\n"
     ]
    }
   ],
   "source": [
    "# Train a Decision Tree regression model, report the coefficients, the best parameters, and model performance (10 points)\n",
    "# hint: find the optimal max_depth\n",
    "\n",
    "# YOUR CODE HERE\n",
    "from sklearn.tree import DecisionTreeRegressor\n",
    "from sklearn.model_selection import GridSearchCV\n",
    "dtree = DecisionTreeRegressor(random_state=0)\n",
    "\n",
    "#define a list of parameters\n",
    "param_dtree = {'max_depth': range(1,15)}\n",
    "\n",
    "#apply grid search\n",
    "grid_dtree = GridSearchCV(dtree, param_dtree, cv=10, return_train_score = True)\n",
    "grid_dtree.fit(X_train, y_train)\n",
    "\n",
    "# Mean Cross Validation Score\n",
    "print(\"Best Mean Cross-validation score: {:.2f}\".format(grid_dtree.best_score_))\n",
    "print()\n",
    "\n",
    "#find best parameters\n",
    "print('Decision Tree Regressor parameters: ', grid_dtree.best_params_)\n",
    "\n",
    "# Check train data set performance\n",
    "print(\"Decision Tree Regressor Train Performance: \", grid_dtree.score(X_train,y_train))\n",
    "\n",
    "# Check test data set performance\n",
    "print(\"Decision Tree Regressor Test Performance: \", grid_dtree.score(X_test,y_test))"
   ]
  }
 ],
 "metadata": {
  "kernelspec": {
   "display_name": "Python 3",
   "language": "python",
   "name": "python3"
  },
  "language_info": {
   "codemirror_mode": {
    "name": "ipython",
    "version": 3
   },
   "file_extension": ".py",
   "mimetype": "text/x-python",
   "name": "python",
   "nbconvert_exporter": "python",
   "pygments_lexer": "ipython3",
   "version": "3.7.4"
  },
  "toc": {
   "base_numbering": 1,
   "nav_menu": {},
   "number_sections": true,
   "sideBar": true,
   "skip_h1_title": false,
   "title_cell": "Table of Contents",
   "title_sidebar": "Contents",
   "toc_cell": false,
   "toc_position": {},
   "toc_section_display": true,
   "toc_window_display": false
  }
 },
 "nbformat": 4,
 "nbformat_minor": 2
}
